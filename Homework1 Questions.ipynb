{
 "cells": [
  {
   "cell_type": "markdown",
   "metadata": {},
   "source": [
    "# Homework 1 \n",
    "\n",
    "this is my edit",
    "Please submit all your homework as a jupyter notebook on NYU brightspace. \n",
    "Notebooks should run and produce the required data, plots, output, etc. \n",
    "\n",
    "Name:\n"
   ]
  },
  {
   "cell_type": "markdown",
   "metadata": {},
   "source": [
    "## Question 1: It's all about cars\n",
    "Consider the example class that makes cars:"
   ]
  },
  {
   "cell_type": "code",
   "execution_count": null,
   "metadata": {},
   "outputs": [],
   "source": [
    "class cars:\n",
    "    #This makes a class that represents cars\n",
    "    def __init__(self, brand, model, type):\n",
    "        self.brand = brand\n",
    "        self.model = model\n",
    "        self.type = type\n",
    "        self.gas_tank_size = 14 #In gallons\n",
    "        self.fuel_level = 0\n",
    "\n",
    "    def fuel_up(self):\n",
    "        self.fuel_level = self.gas_tank_size\n",
    "        print('Gas tank is now full.')\n",
    "\n",
    "    def drive(self):\n",
    "        print(f'The {self.model} is now driving.')"
   ]
  },
  {
   "cell_type": "markdown",
   "metadata": {},
   "source": [
    "1. Change the class to also have \"color\" as an attribute. Make sure that users can initialize the color when they make a car object.\n",
    "\n",
    "2. When we make the car drive, it tells us the car is driving. That's very cute, but unfortunately real cars use up gas when they are driving. Change the drive() function to lower the fuel level by 1 gallon every time you call it. \n",
    "\n",
    "3. The fuel level can clearly not go below zero. Make sure this is impossible and print out a warning when the car is out of gas.\n",
    "\n",
    "4. It would be nice to have a message indicating that we're almost out of gas before it is too late. When the fuel level reaches one gallon, notify us that we're running on fumes.\n",
    "\n",
    "42. Make your favorite car and drive it around!\n"
   ]
  },
  {
   "cell_type": "code",
   "execution_count": null,
   "metadata": {},
   "outputs": [],
   "source": []
  },
  {
   "cell_type": "markdown",
   "metadata": {},
   "source": [
    "## Question 2: Computing $\\pi$\n",
    "\n",
    "Consider the integral\n",
    "\\begin{equation}\n",
    "F=\\int_0^1 {\\rm d}x \\sqrt{1-x^2}.\n",
    "\\end{equation}\n",
    "\n",
    "1. Show that this analytically that this integral is $\\pi/4$\n",
    "2. Write a function that draws uniform random numbers $(x, y)$ with $x \\in [0, 1]$ and $y \\in [0, 1]$. Each such random ($x_i, y_i)$ point is tested to see whether it lies in the unit circle, i.e.\n",
    "\\begin{equation}\n",
    "y_i \\leq \\sqrt{1-x_i^2}\n",
    "\\end{equation}\n",
    "Since the ratio of the area of the circle to the area of the square is $\\pi/4$, and since the random $(x, y)$ points are\n",
    "uniformly distributed, the fraction of $(x, y)$ points lying within the circle should provide an increasingly better\n",
    "estimate of $\\pi/4$ as more random numbers are drawn.\n",
    "3.  Use the function from 2. to estimate $\\pi$ using $N$ = 10, 100, 1000, 10, 000 points and calculate the error in your estimate. Make a plot of the error as a function of $N$. Explain the result.\n"
   ]
  },
  {
   "cell_type": "code",
   "execution_count": null,
   "metadata": {},
   "outputs": [],
   "source": []
  },
  {
   "cell_type": "markdown",
   "metadata": {},
   "source": [
    "## Question 3: Taylor series exponential\n",
    "\n",
    "The series expansion of the exponential function around zero is \n",
    "\\begin{equation}\n",
    "e^x =\\sum_{n=0}^\\infty \\frac{x^n}{n!}=\\sum_{n=0}^\\infty c_n(x),\n",
    "\\end{equation}\n",
    "where the last equality defines $c_n(x)$.\n",
    "\n",
    "1. Show that $c_n(x)$ can easily be computed from $c_{n-1}(x)$.\n",
    "2. Use the previous result to make a function that computes an approximation of the exponential by computing the Taylor series to order $N$. Make it such that it only keeps two local variables. \n",
    "3. Make a plot of the convergence with $N$ by comparing the result to numpy's evaluation of the exponential for some $x$."
   ]
  },
  {
   "cell_type": "code",
   "execution_count": null,
   "metadata": {},
   "outputs": [],
   "source": []
  }
 ],
 "metadata": {
  "kernelspec": {
   "display_name": "Python 3",
   "language": "python",
   "name": "python3"
  },
  "language_info": {
   "codemirror_mode": {
    "name": "ipython",
    "version": 3
   },
   "file_extension": ".py",
   "mimetype": "text/x-python",
   "name": "python",
   "nbconvert_exporter": "python",
   "pygments_lexer": "ipython3",
   "version": "3.8.5"
  }
 },
 "nbformat": 4,
 "nbformat_minor": 5
}
